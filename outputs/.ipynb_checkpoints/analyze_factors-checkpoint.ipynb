{
 "cells": [
  {
   "cell_type": "code",
   "execution_count": 2,
   "metadata": {},
   "outputs": [],
   "source": [
    "from sklearn import linear_model"
   ]
  },
  {
   "cell_type": "code",
   "execution_count": 3,
   "metadata": {},
   "outputs": [],
   "source": [
    "reg = linear_model.LinearRegression()"
   ]
  },
  {
   "cell_type": "code",
   "execution_count": 4,
   "metadata": {},
   "outputs": [],
   "source": [
    "import pandas as pd\n",
    "import numpy as np"
   ]
  },
  {
   "cell_type": "code",
   "execution_count": 5,
   "metadata": {},
   "outputs": [],
   "source": [
    "df = pd.read_csv(\"tpcc_profiling/stats.csv\")"
   ]
  },
  {
   "cell_type": "code",
   "execution_count": 6,
   "metadata": {},
   "outputs": [],
   "source": [
    "clv = df[df['CC_ALG'] == 'BAMBOO']"
   ]
  },
  {
   "cell_type": "code",
   "execution_count": 7,
   "metadata": {},
   "outputs": [
    {
     "data": {
      "text/html": [
       "<div>\n",
       "<style scoped>\n",
       "    .dataframe tbody tr th:only-of-type {\n",
       "        vertical-align: middle;\n",
       "    }\n",
       "\n",
       "    .dataframe tbody tr th {\n",
       "        vertical-align: top;\n",
       "    }\n",
       "\n",
       "    .dataframe thead th {\n",
       "        text-align: right;\n",
       "    }\n",
       "</style>\n",
       "<table border=\"1\" class=\"dataframe\">\n",
       "  <thead>\n",
       "    <tr style=\"text-align: right;\">\n",
       "      <th></th>\n",
       "      <th>ABORT_PENALTY</th>\n",
       "      <th>CC_ALG</th>\n",
       "      <th>CLV_RETIRE_OFF</th>\n",
       "      <th>CLV_RETIRE_ON</th>\n",
       "      <th>DEBUG_PROFILING</th>\n",
       "      <th>MAX_TXN_PER_PART</th>\n",
       "      <th>NUM_WH</th>\n",
       "      <th>SPINLOCK</th>\n",
       "      <th>THREAD_CNT</th>\n",
       "      <th>WORKLOAD</th>\n",
       "      <th>...</th>\n",
       "      <th>run_time</th>\n",
       "      <th>throughput</th>\n",
       "      <th>time_abort</th>\n",
       "      <th>time_cleanup</th>\n",
       "      <th>time_index</th>\n",
       "      <th>time_man</th>\n",
       "      <th>time_query</th>\n",
       "      <th>time_ts_alloc</th>\n",
       "      <th>time_wait</th>\n",
       "      <th>txn_cnt</th>\n",
       "    </tr>\n",
       "  </thead>\n",
       "  <tbody>\n",
       "    <tr>\n",
       "      <th>0</th>\n",
       "      <td>1</td>\n",
       "      <td>BAMBOO</td>\n",
       "      <td>16</td>\n",
       "      <td>0</td>\n",
       "      <td>True</td>\n",
       "      <td>100000</td>\n",
       "      <td>16</td>\n",
       "      <td>True</td>\n",
       "      <td>16</td>\n",
       "      <td>TPCC</td>\n",
       "      <td>...</td>\n",
       "      <td>25.021875</td>\n",
       "      <td>857921.943749</td>\n",
       "      <td>0.0</td>\n",
       "      <td>2.228884</td>\n",
       "      <td>3.359098</td>\n",
       "      <td>13.418784</td>\n",
       "      <td>0.045932</td>\n",
       "      <td>0.0</td>\n",
       "      <td>0.001442</td>\n",
       "      <td>1341676</td>\n",
       "    </tr>\n",
       "    <tr>\n",
       "      <th>1</th>\n",
       "      <td>1</td>\n",
       "      <td>BAMBOO</td>\n",
       "      <td>16</td>\n",
       "      <td>0</td>\n",
       "      <td>True</td>\n",
       "      <td>100000</td>\n",
       "      <td>16</td>\n",
       "      <td>True</td>\n",
       "      <td>8</td>\n",
       "      <td>TPCC</td>\n",
       "      <td>...</td>\n",
       "      <td>11.766072</td>\n",
       "      <td>494164.594745</td>\n",
       "      <td>0.0</td>\n",
       "      <td>1.038814</td>\n",
       "      <td>1.690787</td>\n",
       "      <td>6.310020</td>\n",
       "      <td>0.021307</td>\n",
       "      <td>0.0</td>\n",
       "      <td>0.000429</td>\n",
       "      <td>726797</td>\n",
       "    </tr>\n",
       "    <tr>\n",
       "      <th>2</th>\n",
       "      <td>1</td>\n",
       "      <td>BAMBOO</td>\n",
       "      <td>16</td>\n",
       "      <td>0</td>\n",
       "      <td>True</td>\n",
       "      <td>100000</td>\n",
       "      <td>16</td>\n",
       "      <td>True</td>\n",
       "      <td>4</td>\n",
       "      <td>TPCC</td>\n",
       "      <td>...</td>\n",
       "      <td>5.424471</td>\n",
       "      <td>276457.576446</td>\n",
       "      <td>0.0</td>\n",
       "      <td>0.501098</td>\n",
       "      <td>0.754167</td>\n",
       "      <td>2.868046</td>\n",
       "      <td>0.010266</td>\n",
       "      <td>0.0</td>\n",
       "      <td>0.000099</td>\n",
       "      <td>374909</td>\n",
       "    </tr>\n",
       "    <tr>\n",
       "      <th>3</th>\n",
       "      <td>1</td>\n",
       "      <td>BAMBOO</td>\n",
       "      <td>16</td>\n",
       "      <td>0</td>\n",
       "      <td>True</td>\n",
       "      <td>100000</td>\n",
       "      <td>16</td>\n",
       "      <td>True</td>\n",
       "      <td>2</td>\n",
       "      <td>TPCC</td>\n",
       "      <td>...</td>\n",
       "      <td>2.383741</td>\n",
       "      <td>151931.768093</td>\n",
       "      <td>0.0</td>\n",
       "      <td>0.232393</td>\n",
       "      <td>0.313344</td>\n",
       "      <td>1.270820</td>\n",
       "      <td>0.004797</td>\n",
       "      <td>0.0</td>\n",
       "      <td>0.000011</td>\n",
       "      <td>181083</td>\n",
       "    </tr>\n",
       "    <tr>\n",
       "      <th>4</th>\n",
       "      <td>1</td>\n",
       "      <td>BAMBOO</td>\n",
       "      <td>16</td>\n",
       "      <td>0</td>\n",
       "      <td>True</td>\n",
       "      <td>100000</td>\n",
       "      <td>16</td>\n",
       "      <td>True</td>\n",
       "      <td>1</td>\n",
       "      <td>TPCC</td>\n",
       "      <td>...</td>\n",
       "      <td>1.199467</td>\n",
       "      <td>83370.335867</td>\n",
       "      <td>0.0</td>\n",
       "      <td>0.100002</td>\n",
       "      <td>0.171547</td>\n",
       "      <td>0.478526</td>\n",
       "      <td>0.002636</td>\n",
       "      <td>0.0</td>\n",
       "      <td>0.000000</td>\n",
       "      <td>100000</td>\n",
       "    </tr>\n",
       "  </tbody>\n",
       "</table>\n",
       "<p>5 rows × 36 columns</p>\n",
       "</div>"
      ],
      "text/plain": [
       "   ABORT_PENALTY CC_ALG  CLV_RETIRE_OFF  CLV_RETIRE_ON  DEBUG_PROFILING  \\\n",
       "0              1    BAMBOO              16              0             True   \n",
       "1              1    BAMBOO              16              0             True   \n",
       "2              1    BAMBOO              16              0             True   \n",
       "3              1    BAMBOO              16              0             True   \n",
       "4              1    BAMBOO              16              0             True   \n",
       "\n",
       "   MAX_TXN_PER_PART  NUM_WH  SPINLOCK  THREAD_CNT WORKLOAD  ...   run_time  \\\n",
       "0            100000      16      True          16     TPCC  ...  25.021875   \n",
       "1            100000      16      True           8     TPCC  ...  11.766072   \n",
       "2            100000      16      True           4     TPCC  ...   5.424471   \n",
       "3            100000      16      True           2     TPCC  ...   2.383741   \n",
       "4            100000      16      True           1     TPCC  ...   1.199467   \n",
       "\n",
       "      throughput  time_abort  time_cleanup  time_index   time_man  time_query  \\\n",
       "0  857921.943749         0.0      2.228884    3.359098  13.418784    0.045932   \n",
       "1  494164.594745         0.0      1.038814    1.690787   6.310020    0.021307   \n",
       "2  276457.576446         0.0      0.501098    0.754167   2.868046    0.010266   \n",
       "3  151931.768093         0.0      0.232393    0.313344   1.270820    0.004797   \n",
       "4   83370.335867         0.0      0.100002    0.171547   0.478526    0.002636   \n",
       "\n",
       "   time_ts_alloc  time_wait  txn_cnt  \n",
       "0            0.0   0.001442  1341676  \n",
       "1            0.0   0.000429   726797  \n",
       "2            0.0   0.000099   374909  \n",
       "3            0.0   0.000011   181083  \n",
       "4            0.0   0.000000   100000  \n",
       "\n",
       "[5 rows x 36 columns]"
      ]
     },
     "execution_count": 7,
     "metadata": {},
     "output_type": "execute_result"
    }
   ],
   "source": [
    "clv.head()"
   ]
  },
  {
   "cell_type": "code",
   "execution_count": 17,
   "metadata": {},
   "outputs": [],
   "source": [
    "y = clv['debug8'].values"
   ]
  },
  {
   "cell_type": "code",
   "execution_count": 18,
   "metadata": {},
   "outputs": [],
   "source": [
    "x = clv['abort_cnt'].values"
   ]
  },
  {
   "cell_type": "code",
   "execution_count": 15,
   "metadata": {},
   "outputs": [],
   "source": [
    "from scipy.stats import pearsonr"
   ]
  },
  {
   "cell_type": "code",
   "execution_count": 19,
   "metadata": {},
   "outputs": [],
   "source": [
    "corr, _ = pearsonr(x, y)"
   ]
  },
  {
   "cell_type": "code",
   "execution_count": 20,
   "metadata": {},
   "outputs": [
    {
     "data": {
      "text/plain": [
       "0.98768922793375"
      ]
     },
     "execution_count": 20,
     "metadata": {},
     "output_type": "execute_result"
    }
   ],
   "source": [
    "corr"
   ]
  },
  {
   "cell_type": "code",
   "execution_count": null,
   "metadata": {},
   "outputs": [],
   "source": []
  }
 ],
 "metadata": {
  "kernelspec": {
   "display_name": "Python 3",
   "language": "python",
   "name": "python3"
  },
  "language_info": {
   "codemirror_mode": {
    "name": "ipython",
    "version": 3
   },
   "file_extension": ".py",
   "mimetype": "text/x-python",
   "name": "python",
   "nbconvert_exporter": "python",
   "pygments_lexer": "ipython3",
   "version": "3.7.3"
  }
 },
 "nbformat": 4,
 "nbformat_minor": 2
}
